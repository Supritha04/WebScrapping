{
  "nbformat": 4,
  "nbformat_minor": 0,
  "metadata": {
    "colab": {
      "provenance": [],
      "authorship_tag": "ABX9TyPf89C5fxoq6PcvikRpYDUC",
      "include_colab_link": true
    },
    "kernelspec": {
      "name": "python3",
      "display_name": "Python 3"
    },
    "language_info": {
      "name": "python"
    }
  },
  "cells": [
    {
      "cell_type": "markdown",
      "metadata": {
        "id": "view-in-github",
        "colab_type": "text"
      },
      "source": [
        "<a href=\"https://colab.research.google.com/github/Supritha04/WebScrapping/blob/main/Exploring_Reddit.ipynb\" target=\"_parent\"><img src=\"https://colab.research.google.com/assets/colab-badge.svg\" alt=\"Open In Colab\"/></a>"
      ]
    },
    {
      "cell_type": "code",
      "execution_count": 6,
      "metadata": {
        "colab": {
          "base_uri": "https://localhost:8080/"
        },
        "id": "Ab9ehaYd0_5A",
        "outputId": "348adffd-8462-43f6-9969-ef9528597f2b"
      },
      "outputs": [
        {
          "output_type": "stream",
          "name": "stdout",
          "text": [
            "Requirement already satisfied: praw in /usr/local/lib/python3.10/dist-packages (7.7.1)\n",
            "Requirement already satisfied: prawcore<3,>=2.1 in /usr/local/lib/python3.10/dist-packages (from praw) (2.4.0)\n",
            "Requirement already satisfied: update-checker>=0.18 in /usr/local/lib/python3.10/dist-packages (from praw) (0.18.0)\n",
            "Requirement already satisfied: websocket-client>=0.54.0 in /usr/local/lib/python3.10/dist-packages (from praw) (1.7.0)\n",
            "Requirement already satisfied: requests<3.0,>=2.6.0 in /usr/local/lib/python3.10/dist-packages (from prawcore<3,>=2.1->praw) (2.31.0)\n",
            "Requirement already satisfied: charset-normalizer<4,>=2 in /usr/local/lib/python3.10/dist-packages (from requests<3.0,>=2.6.0->prawcore<3,>=2.1->praw) (3.3.2)\n",
            "Requirement already satisfied: idna<4,>=2.5 in /usr/local/lib/python3.10/dist-packages (from requests<3.0,>=2.6.0->prawcore<3,>=2.1->praw) (3.6)\n",
            "Requirement already satisfied: urllib3<3,>=1.21.1 in /usr/local/lib/python3.10/dist-packages (from requests<3.0,>=2.6.0->prawcore<3,>=2.1->praw) (2.0.7)\n",
            "Requirement already satisfied: certifi>=2017.4.17 in /usr/local/lib/python3.10/dist-packages (from requests<3.0,>=2.6.0->prawcore<3,>=2.1->praw) (2024.2.2)\n"
          ]
        }
      ],
      "source": [
        "!pip install praw"
      ]
    },
    {
      "cell_type": "code",
      "source": [
        "import praw"
      ],
      "metadata": {
        "id": "qVRATt_L1CJy"
      },
      "execution_count": 7,
      "outputs": []
    },
    {
      "cell_type": "code",
      "source": [
        "from google.colab import drive"
      ],
      "metadata": {
        "id": "ANooLZkO1LuC"
      },
      "execution_count": 8,
      "outputs": []
    },
    {
      "cell_type": "code",
      "source": [
        "drive.mount(\"/content/drive\")"
      ],
      "metadata": {
        "colab": {
          "base_uri": "https://localhost:8080/"
        },
        "id": "TR-r6_0_1OG1",
        "outputId": "cb45c82d-0b4c-4c37-bd0a-ede90d833cec"
      },
      "execution_count": 9,
      "outputs": [
        {
          "output_type": "stream",
          "name": "stdout",
          "text": [
            "Drive already mounted at /content/drive; to attempt to forcibly remount, call drive.mount(\"/content/drive\", force_remount=True).\n"
          ]
        }
      ]
    },
    {
      "cell_type": "code",
      "source": [
        "client_id = open(\"/content/drive/MyDrive/content/client_id.txt\").read()\n",
        "client_service = open(\"/content/drive/MyDrive/content/client_secret.txt\").read()\n",
        "password = open(\"/content/drive/MyDrive/content/password.txt\").read()\n",
        "user_agent = open(\"/content/drive/MyDrive/content/user_agent.txt\").read()\n",
        "username = open(\"/content/drive/MyDrive/content/username.txt\").read()"
      ],
      "metadata": {
        "id": "FaKdLCZs1agJ"
      },
      "execution_count": 10,
      "outputs": []
    },
    {
      "cell_type": "code",
      "source": [
        "# Accesing account\n",
        "reddit = praw.Reddit(\n",
        "    client_id=client_id,\n",
        "    client_secret= client_service,\n",
        "    password = password,\n",
        "    user_agent = user_agent,\n",
        "    username = username,\n",
        "    check_for_async=False\n",
        ")"
      ],
      "metadata": {
        "id": "oylL1n5I2J8W"
      },
      "execution_count": 11,
      "outputs": []
    },
    {
      "cell_type": "code",
      "source": [
        "reddit.user.me()"
      ],
      "metadata": {
        "colab": {
          "base_uri": "https://localhost:8080/"
        },
        "id": "UP5AxnMB2Nzb",
        "outputId": "852bf7f0-2de2-4c65-e3d4-7702483b0f71"
      },
      "execution_count": 12,
      "outputs": [
        {
          "output_type": "execute_result",
          "data": {
            "text/plain": [
              "Redditor(name='LabPast4435')"
            ]
          },
          "metadata": {},
          "execution_count": 12
        }
      ]
    },
    {
      "cell_type": "markdown",
      "source": [
        "### Commenting on a post"
      ],
      "metadata": {
        "id": "IQWmRRgw-EX3"
      }
    },
    {
      "cell_type": "markdown",
      "source": [
        "I created a new reddit account with other gmail\n",
        "\n",
        "I post some random text\n",
        "\n",
        "Using this reddit account I commented on my random post succesfully"
      ],
      "metadata": {
        "id": "S6RYkWgY-Icf"
      }
    },
    {
      "cell_type": "code",
      "source": [
        "submission = reddit.submission(url=\"https://www.reddit.com/user/Sad_Dust_1026/comments/1b2zu56/a_random_post/?utm_source=share&utm_medium=web3x&utm_name=web3xcss&utm_term=1&utm_content=share_button\")\n",
        "submission.reply(\"This is a random comment on this random post\")"
      ],
      "metadata": {
        "colab": {
          "base_uri": "https://localhost:8080/"
        },
        "id": "C2EBZe637HnF",
        "outputId": "73d716c5-304d-4100-eea2-a04afd8b6269"
      },
      "execution_count": 22,
      "outputs": [
        {
          "output_type": "execute_result",
          "data": {
            "text/plain": [
              "Comment(id='ksotkwx')"
            ]
          },
          "metadata": {},
          "execution_count": 22
        }
      ]
    },
    {
      "cell_type": "code",
      "source": [
        "subreddit=reddit.subreddit(\"python\")"
      ],
      "metadata": {
        "id": "5bTtbDfr2Qhw"
      },
      "execution_count": 13,
      "outputs": []
    },
    {
      "cell_type": "markdown",
      "source": [
        "### Accessing top 10 posts"
      ],
      "metadata": {
        "id": "egnugxIJ7WsW"
      }
    },
    {
      "cell_type": "code",
      "source": [
        "top_posts=subreddit.top(limit=10)"
      ],
      "metadata": {
        "id": "fLGGBCZn5xFv"
      },
      "execution_count": 14,
      "outputs": []
    },
    {
      "cell_type": "markdown",
      "source": [
        "### Accesssing top 10 new posts"
      ],
      "metadata": {
        "id": "qrKStlXl7aN1"
      }
    },
    {
      "cell_type": "code",
      "source": [
        "new_posts=subreddit.new(limit=10)"
      ],
      "metadata": {
        "id": "jKz0swpX51cV"
      },
      "execution_count": 15,
      "outputs": []
    },
    {
      "cell_type": "markdown",
      "source": [
        "### Printing top posts"
      ],
      "metadata": {
        "id": "lzBk5zzH-4gr"
      }
    },
    {
      "cell_type": "code",
      "source": [
        "for post in top_posts:\n",
        "  print(\"Title : \",post.title)\n",
        "  print(\"ID : \",post.id)\n",
        "  print(\"Author : \",post.author)\n",
        "  print(\"Url : \",post.url)\n",
        "  print(\"Score : \",post.score)\n",
        "  print(\"Comment count : \",post.num_comments)\n",
        "  print(\"Create : \",post.created_utc)\n",
        "  print(\"-----------------------------------------------\")"
      ],
      "metadata": {
        "colab": {
          "base_uri": "https://localhost:8080/"
        },
        "id": "BSDFoh8056Ru",
        "outputId": "933d6bf5-de3c-47e0-84a2-593a17df2c57"
      },
      "execution_count": 16,
      "outputs": [
        {
          "output_type": "stream",
          "name": "stdout",
          "text": [
            "Title :  Lad wrote a Python script to download Alexa voice recordings, he didn't expect this email.\n",
            "ID :  g53lxf\n",
            "Author :  iEslam\n",
            "Url :  https://i.redd.it/2s0dj8ob12u41.png\n",
            "Score :  12339\n",
            "Comment count :  133\n",
            "Create :  1587424299.0\n",
            "-----------------------------------------------\n",
            "Title :  This post has:\n",
            "ID :  hoolsm\n",
            "Author :  Krukerfluk\n",
            "Url :  https://www.reddit.com/r/Python/comments/hoolsm/this_post_has/\n",
            "Score :  9233\n",
            "Comment count :  437\n",
            "Create :  1594386373.0\n",
            "-----------------------------------------------\n",
            "Title :  I redesign the Python logo to make it more modern\n",
            "ID :  gftejm\n",
            "Author :  jessjwilliamson\n",
            "Url :  https://i.redd.it/rxezjyf4ojx41.png\n",
            "Score :  7864\n",
            "Comment count :  266\n",
            "Create :  1588945149.0\n",
            "-----------------------------------------------\n",
            "Title :  Automate the boring stuff with python - tinder\n",
            "ID :  7kpme8\n",
            "Author :  backprop88\n",
            "Url :  https://gfycat.com/PointlessSimplisticAmericanquarterhorse\n",
            "Score :  6718\n",
            "Comment count :  325\n",
            "Create :  1513644476.0\n",
            "-----------------------------------------------\n",
            "Title :  Just finished programming and building my own smart mirror in python, wrote all of the code myself and implemented my own voice control and facial recognition features\n",
            "ID :  dmkx8a\n",
            "Author :  janky_british_gamer\n",
            "Url :  https://i.redd.it/24ug9g82dju31.jpg\n",
            "Score :  6608\n",
            "Comment count :  468\n",
            "Create :  1571943330.0\n",
            "-----------------------------------------------\n",
            "Title :  I'm excited to share my first published book, Introduction to Python Programming for Business and Social Science Applications -- specifically geared towards students not specifically in computer science\n",
            "ID :  irh8l0\n",
            "Author :  paulkaefer\n",
            "Url :  https://i.redd.it/ebmh8z3c8rm51.png\n",
            "Score :  6501\n",
            "Comment count :  249\n",
            "Create :  1599933196.0\n",
            "-----------------------------------------------\n",
            "Title :  Drawing Mona Lisa with 256 circles using evolution [Github repo in comments]\n",
            "ID :  gn9add\n",
            "Author :  Itwist101\n",
            "Url :  https://v.redd.it/nyzyx7uyfwz41\n",
            "Score :  5726\n",
            "Comment count :  121\n",
            "Create :  1589972294.0\n",
            "-----------------------------------------------\n",
            "Title :  I made a simulation using Python in which a neural network learns to race\n",
            "ID :  hqc7ol\n",
            "Author :  atqm-\n",
            "Url :  https://v.redd.it/bgmc6q20ela51\n",
            "Score :  5694\n",
            "Comment count :  212\n",
            "Create :  1594632457.0\n",
            "-----------------------------------------------\n",
            "Title :  Thanks to everyone’s advice, my mouse drawing algorithm has gotten much better and faster!\n",
            "ID :  ghxqod\n",
            "Author :  Nekose\n",
            "Url :  https://v.redd.it/sktc30zom7y41\n",
            "Score :  5538\n",
            "Comment count :  203\n",
            "Create :  1589235279.0\n",
            "-----------------------------------------------\n",
            "Title :  Debugging Cheat Sheet\n",
            "ID :  iehths\n",
            "Author :  HotTeenBoy\n",
            "Url :  https://i.redd.it/p1i8awsivji51.jpg\n",
            "Score :  5456\n",
            "Comment count :  112\n",
            "Create :  1598100424.0\n",
            "-----------------------------------------------\n"
          ]
        }
      ]
    },
    {
      "cell_type": "code",
      "source": [
        " post=reddit.submission(id=\"gn9add\")"
      ],
      "metadata": {
        "id": "dfxhudLS6gA1"
      },
      "execution_count": 17,
      "outputs": []
    },
    {
      "cell_type": "markdown",
      "source": [
        "### Accesing comments of the posts"
      ],
      "metadata": {
        "id": "0bw8AwVy7gNL"
      }
    },
    {
      "cell_type": "code",
      "source": [
        "comments=post.comments"
      ],
      "metadata": {
        "id": "-1I642hS6vYe"
      },
      "execution_count": 18,
      "outputs": []
    },
    {
      "cell_type": "code",
      "source": [
        "for comment in comments[:2]:\n",
        "  print(\"Printing comment...\")\n",
        "  print(\"Comment : \",comment.body)\n",
        "  print(\"Author : \",comment.author)\n",
        "  print(\"--------------------------\")"
      ],
      "metadata": {
        "colab": {
          "base_uri": "https://localhost:8080/"
        },
        "id": "fObgsRdP6zqm",
        "outputId": "0dc91103-0994-468c-e5ea-f1ce334cf981"
      },
      "execution_count": 19,
      "outputs": [
        {
          "output_type": "stream",
          "name": "stdout",
          "text": [
            "Printing comment...\n",
            "Comment :  \\[Github\\] [https://github.com/ahmedkhalf/Circle-Evolution](https://github.com/ahmedkhalf/Circle-Evolution) \n",
            "\n",
            "Please note that this is a very early and undocumented version. I plan on adding color, and improving speed, then later putting it on PyPI. Push requests are appreciated :)\n",
            "Author :  Itwist101\n",
            "--------------------------\n",
            "Printing comment...\n",
            "Comment :  This is great.\n",
            "\n",
            "It gets a really good match, especially if you unfocus your eyes / squint / look out the corner of your eyes. Then your brain doesn’t get distracted by the circles and just sees the shading.\n",
            "\n",
            "I’d suggest at you include a requirements.txt or a Pipfile so other people can more easily use the code and see what packages you installed.\n",
            "Author :  ColdFire75\n",
            "--------------------------\n"
          ]
        }
      ]
    },
    {
      "cell_type": "markdown",
      "source": [
        "### Printing new post"
      ],
      "metadata": {
        "id": "yCg-r0n3-tq7"
      }
    },
    {
      "cell_type": "code",
      "source": [
        "for post in new_posts:\n",
        "  print(\"Title : \",post.title)\n",
        "  print(\"ID : \",post.id)\n",
        "  print(\"Author : \",post.author)\n",
        "  print(\"Url : \",post.url)\n",
        "  print(\"Score : \",post.score)\n",
        "  print(\"Comment count : \",post.num_comments)\n",
        "  print(\"Create : \",post.created_utc)\n",
        "  print(\"-----------------------------------------------\")"
      ],
      "metadata": {
        "colab": {
          "base_uri": "https://localhost:8080/"
        },
        "id": "_1O1A-64-w9D",
        "outputId": "fe6f373a-4202-4b06-9b59-9424ef714d44"
      },
      "execution_count": 23,
      "outputs": [
        {
          "output_type": "stream",
          "name": "stdout",
          "text": [
            "Title :  6 ways to improve the architecture of your Python project (using import-linter)\n",
            "ID :  1b2z2g8\n",
            "Author :  piglei\n",
            "Url :  https://www.reddit.com/r/Python/comments/1b2z2g8/6_ways_to_improve_the_architecture_of_your_python/\n",
            "Score :  0\n",
            "Comment count :  0\n",
            "Create :  1709209371.0\n",
            "-----------------------------------------------\n",
            "Title :  MuAlphaZeroLibrary: simple usage and training of MuZero and AlphaZero type models\n",
            "ID :  1b2xybq\n",
            "Author :  Skirlaxx\n",
            "Url :  https://www.reddit.com/r/Python/comments/1b2xybq/mualphazerolibrary_simple_usage_and_training_of/\n",
            "Score :  2\n",
            "Comment count :  0\n",
            "Create :  1709205405.0\n",
            "-----------------------------------------------\n",
            "Title :  Persistent module variables\n",
            "ID :  1b2xk0z\n",
            "Author :  env_variable\n",
            "Url :  https://www.reddit.com/r/Python/comments/1b2xk0z/persistent_module_variables/\n",
            "Score :  2\n",
            "Comment count :  6\n",
            "Create :  1709203908.0\n",
            "-----------------------------------------------\n",
            "Title :  Introducing Genie AI: Google's Revolutionary Tool for Generating Video Games from Text, Sketch, and\n",
            "ID :  1b2vr9v\n",
            "Author :  brianstoolshed\n",
            "Url :  https://www.reddit.com/r/Python/comments/1b2vr9v/introducing_genie_ai_googles_revolutionary_tool/\n",
            "Score :  0\n",
            "Comment count :  2\n",
            "Create :  1709196403.0\n",
            "-----------------------------------------------\n",
            "Title :  What are the best libraries to create UIs that let you code \"infinite\" area of work kinda of thing?\n",
            "ID :  1b2vq35\n",
            "Author :  Reddit__Please__Help\n",
            "Url :  https://www.reddit.com/r/Python/comments/1b2vq35/what_are_the_best_libraries_to_create_uis_that/\n",
            "Score :  0\n",
            "Comment count :  11\n",
            "Create :  1709196258.0\n",
            "-----------------------------------------------\n",
            "Title :  This is what a +60k git diff gives Pythonistas this year\n",
            "ID :  1b2t6pd\n",
            "Author :  Ousret\n",
            "Url :  https://www.reddit.com/r/Python/comments/1b2t6pd/this_is_what_a_60k_git_diff_gives_pythonistas/\n",
            "Score :  19\n",
            "Comment count :  12\n",
            "Create :  1709186461.0\n",
            "-----------------------------------------------\n",
            "Title :  Thursday Daily Thread: Python Careers, Courses, and Furthering Education!\n",
            "ID :  1b2ltwd\n",
            "Author :  AutoModerator\n",
            "Url :  https://www.reddit.com/r/Python/comments/1b2ltwd/thursday_daily_thread_python_careers_courses_and/\n",
            "Score :  0\n",
            "Comment count :  0\n",
            "Create :  1709164808.0\n",
            "-----------------------------------------------\n",
            "Title :  Automate creating a virtual environment and upgrading pip [tutorial]\n",
            "ID :  1b2ldnp\n",
            "Author :  Responsible_Rip_4365\n",
            "Url :  https://www.reddit.com/r/Python/comments/1b2ldnp/automate_creating_a_virtual_environment_and/\n",
            "Score :  13\n",
            "Comment count :  7\n",
            "Create :  1709163646.0\n",
            "-----------------------------------------------\n",
            "Title :  Starter template for Cython\n",
            "ID :  1b2km3x\n",
            "Author :  joegeezer\n",
            "Url :  https://www.reddit.com/r/Python/comments/1b2km3x/starter_template_for_cython/\n",
            "Score :  7\n",
            "Comment count :  0\n",
            "Create :  1709161779.0\n",
            "-----------------------------------------------\n",
            "Title :  I made a CV Generator using PyQt6 and Python | Modern Design\n",
            "ID :  1b2eerp\n",
            "Author :  Specialist-Arachnid6\n",
            "Url :  https://www.reddit.com/r/Python/comments/1b2eerp/i_made_a_cv_generator_using_pyqt6_and_python/\n",
            "Score :  50\n",
            "Comment count :  9\n",
            "Create :  1709147300.0\n",
            "-----------------------------------------------\n"
          ]
        }
      ]
    },
    {
      "cell_type": "code",
      "source": [
        "post=reddit.submission(id=\"1b2eerp\")"
      ],
      "metadata": {
        "id": "5yc_YDer-9jV"
      },
      "execution_count": 24,
      "outputs": []
    },
    {
      "cell_type": "markdown",
      "source": [
        "### Accesing comments of the post"
      ],
      "metadata": {
        "id": "kZeK_shX_FpU"
      }
    },
    {
      "cell_type": "code",
      "source": [
        "comments=post.comments"
      ],
      "metadata": {
        "id": "qDXst9gF_C3i"
      },
      "execution_count": 25,
      "outputs": []
    },
    {
      "cell_type": "code",
      "source": [
        "for comment in comments[:5]:\n",
        "  print(\"Printing comment...\")\n",
        "  print(\"Comment : \",comment.body)\n",
        "  print(\"Author : \",comment.author)\n",
        "  print(\"--------------------------\")"
      ],
      "metadata": {
        "colab": {
          "base_uri": "https://localhost:8080/"
        },
        "id": "suuwIlPi_KHK",
        "outputId": "6d6de000-62bb-4813-a4d3-4a7238a524da"
      },
      "execution_count": 26,
      "outputs": [
        {
          "output_type": "stream",
          "name": "stdout",
          "text": [
            "Printing comment...\n",
            "Comment :  Looks nice!\n",
            "\n",
            "I suggest you have a look at [Pydantic](https://github.com/pydantic/pydantic). It will be very beneficial in the long run, and maybe you can generate the UI automatically from the Pydantic models. Also, you can consider using `rendercv` as a dependency to produce PDFs as well.\n",
            "Author :  egehancry\n",
            "--------------------------\n",
            "Printing comment...\n",
            "Comment :  Heya! I've posted some other projects here too (thanks for the immense support for those projects btw). I know this project isn't anywhere near perfect. It lacks variety templates. Right now, it consists of only ONE template. I'm looking forward to expanding it.\n",
            "\n",
            "Honest criticism is largely appreciated. Also, any contributions / feature requests are also welcomed\n",
            "Author :  Specialist-Arachnid6\n",
            "--------------------------\n",
            "Printing comment...\n",
            "Comment :  Any examples of output?\n",
            "Author :  BlackBloke\n",
            "--------------------------\n",
            "Printing comment...\n",
            "Comment :  I, too, consider my code to be depreciating in value\n",
            "\n",
            "    # ----- DEPRECIATED ------ #\n",
            "\n",
            "    # QApplication.setAttribute(Qt.AA_EnableHighDpiScaling)\n",
            "    # QApplication.setAttribute(Qt.AA_UseHighDpiPixmaps)\n",
            "\n",
            "    # ----- DEPRECIATED ------ #\n",
            "    qdarktheme.enable_hi_dpi()\n",
            "    app = QApplication(sys.argv)\n",
            "    w = Window()\n",
            "    qdarktheme.setup_theme(\"dark\", custom_colors={\"primary\": \"#c69ef7\"})\n",
            "    w.show()\n",
            "    app.exec()\n",
            "Author :  djdadi\n",
            "--------------------------\n"
          ]
        }
      ]
    }
  ]
}