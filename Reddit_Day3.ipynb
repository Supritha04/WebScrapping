{
  "nbformat": 4,
  "nbformat_minor": 0,
  "metadata": {
    "colab": {
      "provenance": [],
      "authorship_tag": "ABX9TyPntxUYDWHsd1ULI+TlWnF7",
      "include_colab_link": true
    },
    "kernelspec": {
      "name": "python3",
      "display_name": "Python 3"
    },
    "language_info": {
      "name": "python"
    }
  },
  "cells": [
    {
      "cell_type": "markdown",
      "metadata": {
        "id": "view-in-github",
        "colab_type": "text"
      },
      "source": [
        "<a href=\"https://colab.research.google.com/github/Supritha04/WebScrapping/blob/main/Reddit_Day3.ipynb\" target=\"_parent\"><img src=\"https://colab.research.google.com/assets/colab-badge.svg\" alt=\"Open In Colab\"/></a>"
      ]
    },
    {
      "cell_type": "code",
      "execution_count": 1,
      "metadata": {
        "colab": {
          "base_uri": "https://localhost:8080/"
        },
        "id": "c6XizMSdExod",
        "outputId": "5533b656-2d54-429d-95a1-3d638d6739e8"
      },
      "outputs": [
        {
          "output_type": "stream",
          "name": "stdout",
          "text": [
            "Collecting praw\n",
            "  Downloading praw-7.7.1-py3-none-any.whl (191 kB)\n",
            "\u001b[2K     \u001b[90m━━━━━━━━━━━━━━━━━━━━━━━━━━━━━━━━━━━━━━━━\u001b[0m \u001b[32m191.0/191.0 kB\u001b[0m \u001b[31m1.4 MB/s\u001b[0m eta \u001b[36m0:00:00\u001b[0m\n",
            "\u001b[?25hCollecting prawcore<3,>=2.1 (from praw)\n",
            "  Downloading prawcore-2.4.0-py3-none-any.whl (17 kB)\n",
            "Collecting update-checker>=0.18 (from praw)\n",
            "  Downloading update_checker-0.18.0-py3-none-any.whl (7.0 kB)\n",
            "Requirement already satisfied: websocket-client>=0.54.0 in /usr/local/lib/python3.10/dist-packages (from praw) (1.7.0)\n",
            "Requirement already satisfied: requests<3.0,>=2.6.0 in /usr/local/lib/python3.10/dist-packages (from prawcore<3,>=2.1->praw) (2.31.0)\n",
            "Requirement already satisfied: charset-normalizer<4,>=2 in /usr/local/lib/python3.10/dist-packages (from requests<3.0,>=2.6.0->prawcore<3,>=2.1->praw) (3.3.2)\n",
            "Requirement already satisfied: idna<4,>=2.5 in /usr/local/lib/python3.10/dist-packages (from requests<3.0,>=2.6.0->prawcore<3,>=2.1->praw) (3.6)\n",
            "Requirement already satisfied: urllib3<3,>=1.21.1 in /usr/local/lib/python3.10/dist-packages (from requests<3.0,>=2.6.0->prawcore<3,>=2.1->praw) (2.0.7)\n",
            "Requirement already satisfied: certifi>=2017.4.17 in /usr/local/lib/python3.10/dist-packages (from requests<3.0,>=2.6.0->prawcore<3,>=2.1->praw) (2024.2.2)\n",
            "Installing collected packages: update-checker, prawcore, praw\n",
            "Successfully installed praw-7.7.1 prawcore-2.4.0 update-checker-0.18.0\n"
          ]
        }
      ],
      "source": [
        "!pip install praw"
      ]
    },
    {
      "cell_type": "code",
      "source": [
        "import praw"
      ],
      "metadata": {
        "id": "jJYvYIaWE2V2"
      },
      "execution_count": 2,
      "outputs": []
    },
    {
      "cell_type": "code",
      "source": [
        "from google.colab import drive"
      ],
      "metadata": {
        "id": "7q8nUqg8FBWX"
      },
      "execution_count": 3,
      "outputs": []
    },
    {
      "cell_type": "code",
      "source": [
        "drive.mount(\"/content/drive\")"
      ],
      "metadata": {
        "colab": {
          "base_uri": "https://localhost:8080/"
        },
        "id": "cjup21MyFFaG",
        "outputId": "8f46e7f4-3549-46bf-b473-245a408925a8"
      },
      "execution_count": 4,
      "outputs": [
        {
          "output_type": "stream",
          "name": "stdout",
          "text": [
            "Mounted at /content/drive\n"
          ]
        }
      ]
    },
    {
      "cell_type": "code",
      "source": [
        "client_id = open(\"/content/drive/MyDrive/content/client_id.txt\").read()\n",
        "client_service = open(\"/content/drive/MyDrive/content/client_secret.txt\").read()\n",
        "password = open(\"/content/drive/MyDrive/content/password.txt\").read()\n",
        "user_agent = open(\"/content/drive/MyDrive/content/user_agent.txt\").read()\n",
        "username = open(\"/content/drive/MyDrive/content/username.txt\").read()"
      ],
      "metadata": {
        "id": "eFMZfi89FIv3"
      },
      "execution_count": 5,
      "outputs": []
    },
    {
      "cell_type": "code",
      "source": [
        "# Accesing account\n",
        "reddit = praw.Reddit(\n",
        "    client_id=client_id,\n",
        "    client_secret= client_service,\n",
        "    password = password,\n",
        "    user_agent = user_agent,\n",
        "    username = username,\n",
        "    check_for_async=False\n",
        ")"
      ],
      "metadata": {
        "id": "tdqQJaYOFZIw"
      },
      "execution_count": 6,
      "outputs": []
    },
    {
      "cell_type": "code",
      "source": [
        "reddit.user.me()"
      ],
      "metadata": {
        "colab": {
          "base_uri": "https://localhost:8080/"
        },
        "id": "eo3UZ1d8FczQ",
        "outputId": "91e81780-4f0a-4d9f-e432-6cc946bcb7d7"
      },
      "execution_count": 7,
      "outputs": [
        {
          "output_type": "execute_result",
          "data": {
            "text/plain": [
              "Redditor(name='LabPast4435')"
            ]
          },
          "metadata": {},
          "execution_count": 7
        }
      ]
    },
    {
      "cell_type": "code",
      "source": [
        "submission = reddit.submission(url=\"https://www.reddit.com/r/carsandbikesIndia/comments/10shyhr/new_toyota_land_cruiser_lc300_deliverie_begin_in/?utm_source=share&utm_medium=web3x&utm_name=web3xcss&utm_term=1&utm_content=share_buttonn\")\n",
        "submission.reply(\"Cars are fascinating machines, aren't they?\")"
      ],
      "metadata": {
        "colab": {
          "base_uri": "https://localhost:8080/"
        },
        "id": "EUpJ1-TbJPZ3",
        "outputId": "cf87cbb4-8782-4ad9-ff75-750396c9668e"
      },
      "execution_count": 27,
      "outputs": [
        {
          "output_type": "execute_result",
          "data": {
            "text/plain": [
              "Comment(id='ksujqgy')"
            ]
          },
          "metadata": {},
          "execution_count": 27
        }
      ]
    },
    {
      "cell_type": "code",
      "source": [
        "comparison_comments = [\n",
        "    \"Both cars have their pros and cons, it's tough to choose!\",\n",
        "    \"In terms of performance, I think the first car edges out the second one.\",\n",
        "    \"The second car has better fuel efficiency compared to the first one.\",\n",
        "    \"When it comes to design, I prefer the sleek look of the first car.\",\n",
        "    \"Safety features are important, and both cars seem to excel in different areas.\"\n",
        "]"
      ],
      "metadata": {
        "id": "NFzGQ6NyOnrO"
      },
      "execution_count": 33,
      "outputs": []
    },
    {
      "cell_type": "code",
      "source": [
        "submission = reddit.submission(url=\"https://www.reddit.com/r/carsandbikesIndia/comments/10ppwhx/which_one_do_you_prefer_mahindra_xuv_400_ev_vs/?utm_source=share&utm_medium=web3x&utm_name=web3xcss&utm_term=1&utm_content=share_button\")\n",
        "submission.reply(comparison_comments)"
      ],
      "metadata": {
        "colab": {
          "base_uri": "https://localhost:8080/"
        },
        "id": "-KXPVLl3HKAW",
        "outputId": "719ae515-1b08-4e9f-8380-7bc331fc7fdb"
      },
      "execution_count": 10,
      "outputs": [
        {
          "output_type": "execute_result",
          "data": {
            "text/plain": [
              "Comment(id='ksugo36')"
            ]
          },
          "metadata": {},
          "execution_count": 10
        }
      ]
    },
    {
      "cell_type": "code",
      "source": [
        "def random_comment(ur, com):\n",
        "    submission = reddit.submission(url=ur)\n",
        "    submission.reply(com)\n",
        "    submission.upvote()"
      ],
      "metadata": {
        "id": "p7ILkzZsIRHm"
      },
      "execution_count": 31,
      "outputs": []
    },
    {
      "cell_type": "code",
      "source": [
        "ur = \"https://www.reddit.com/r/carsandbikesIndia/comments/10shyhr/new_toyota_land_cruiser_lc300_deliverie_begin_in/?utm_source=share&utm_medium=web3x&utm_name=web3xcss&utm_term=1&utm_content=share_buttonn\"\n",
        "com = \"Cars are fascinating machines, aren't they?\"\n",
        "random_comment(ur, com)"
      ],
      "metadata": {
        "id": "i43TjSJnI5uT"
      },
      "execution_count": 37,
      "outputs": []
    }
  ]
}