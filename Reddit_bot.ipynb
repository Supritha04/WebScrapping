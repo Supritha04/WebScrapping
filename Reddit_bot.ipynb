{
  "nbformat": 4,
  "nbformat_minor": 0,
  "metadata": {
    "colab": {
      "provenance": [],
      "authorship_tag": "ABX9TyNQ1dTvAJqdTk5mszYLtt+G",
      "include_colab_link": true
    },
    "kernelspec": {
      "name": "python3",
      "display_name": "Python 3"
    },
    "language_info": {
      "name": "python"
    }
  },
  "cells": [
    {
      "cell_type": "markdown",
      "metadata": {
        "id": "view-in-github",
        "colab_type": "text"
      },
      "source": [
        "<a href=\"https://colab.research.google.com/github/Supritha04/WebScrapping/blob/main/Reddit_bot.ipynb\" target=\"_parent\"><img src=\"https://colab.research.google.com/assets/colab-badge.svg\" alt=\"Open In Colab\"/></a>"
      ]
    },
    {
      "cell_type": "markdown",
      "source": [
        "**Reddit_bot**"
      ],
      "metadata": {
        "id": "QbbtcZIOG2da"
      }
    },
    {
      "cell_type": "markdown",
      "source": [
        "### Installing praw using pip command"
      ],
      "metadata": {
        "id": "WUgqwyPBG77H"
      }
    },
    {
      "cell_type": "code",
      "execution_count": 1,
      "metadata": {
        "colab": {
          "base_uri": "https://localhost:8080/"
        },
        "id": "7a1hCJV03GyQ",
        "outputId": "d318ae19-d4ca-467f-d279-f939358980e8"
      },
      "outputs": [
        {
          "output_type": "stream",
          "name": "stdout",
          "text": [
            "Collecting praw\n",
            "  Downloading praw-7.7.1-py3-none-any.whl (191 kB)\n",
            "\u001b[?25l     \u001b[90m━━━━━━━━━━━━━━━━━━━━━━━━━━━━━━━━━━━━━━━━\u001b[0m \u001b[32m0.0/191.0 kB\u001b[0m \u001b[31m?\u001b[0m eta \u001b[36m-:--:--\u001b[0m\r\u001b[2K     \u001b[91m━━━━━━━━━━━━━━━━━━━━━━━━━━━━━━━━━━━━━━\u001b[0m\u001b[91m╸\u001b[0m\u001b[90m━\u001b[0m \u001b[32m184.3/191.0 kB\u001b[0m \u001b[31m6.4 MB/s\u001b[0m eta \u001b[36m0:00:01\u001b[0m\r\u001b[2K     \u001b[90m━━━━━━━━━━━━━━━━━━━━━━━━━━━━━━━━━━━━━━━━\u001b[0m \u001b[32m191.0/191.0 kB\u001b[0m \u001b[31m4.9 MB/s\u001b[0m eta \u001b[36m0:00:00\u001b[0m\n",
            "\u001b[?25hCollecting prawcore<3,>=2.1 (from praw)\n",
            "  Downloading prawcore-2.4.0-py3-none-any.whl (17 kB)\n",
            "Collecting update-checker>=0.18 (from praw)\n",
            "  Downloading update_checker-0.18.0-py3-none-any.whl (7.0 kB)\n",
            "Requirement already satisfied: websocket-client>=0.54.0 in /usr/local/lib/python3.10/dist-packages (from praw) (1.7.0)\n",
            "Requirement already satisfied: requests<3.0,>=2.6.0 in /usr/local/lib/python3.10/dist-packages (from prawcore<3,>=2.1->praw) (2.31.0)\n",
            "Requirement already satisfied: charset-normalizer<4,>=2 in /usr/local/lib/python3.10/dist-packages (from requests<3.0,>=2.6.0->prawcore<3,>=2.1->praw) (3.3.2)\n",
            "Requirement already satisfied: idna<4,>=2.5 in /usr/local/lib/python3.10/dist-packages (from requests<3.0,>=2.6.0->prawcore<3,>=2.1->praw) (3.6)\n",
            "Requirement already satisfied: urllib3<3,>=1.21.1 in /usr/local/lib/python3.10/dist-packages (from requests<3.0,>=2.6.0->prawcore<3,>=2.1->praw) (2.0.7)\n",
            "Requirement already satisfied: certifi>=2017.4.17 in /usr/local/lib/python3.10/dist-packages (from requests<3.0,>=2.6.0->prawcore<3,>=2.1->praw) (2024.2.2)\n",
            "Installing collected packages: update-checker, prawcore, praw\n",
            "Successfully installed praw-7.7.1 prawcore-2.4.0 update-checker-0.18.0\n"
          ]
        }
      ],
      "source": [
        "!pip install praw"
      ]
    },
    {
      "cell_type": "markdown",
      "source": [
        "### Importing praw"
      ],
      "metadata": {
        "id": "HacsK2CzG_jo"
      }
    },
    {
      "cell_type": "code",
      "source": [
        "import praw"
      ],
      "metadata": {
        "id": "_L01gi5D4Amc"
      },
      "execution_count": 2,
      "outputs": []
    },
    {
      "cell_type": "markdown",
      "source": [
        "### Importing drive and connecting it to google collab to have access to the text files"
      ],
      "metadata": {
        "id": "hhVmVJm_HBT-"
      }
    },
    {
      "cell_type": "code",
      "source": [
        "from google.colab import drive"
      ],
      "metadata": {
        "id": "g_aOYadVFOwm"
      },
      "execution_count": 7,
      "outputs": []
    },
    {
      "cell_type": "markdown",
      "source": [
        "### Reading the content from the text files"
      ],
      "metadata": {
        "id": "FgqwsVkeHJoX"
      }
    },
    {
      "cell_type": "code",
      "source": [
        "client_id = open(\"/content/contentdrive/MyDrive/content/client_id.txt\").read()\n",
        "client_service = open(\"/content/contentdrive/MyDrive/content/client_secret.txt\").read()\n",
        "password = open(\"/content/contentdrive/MyDrive/content/password.txt\").read()\n",
        "user_agent = open(\"/content/contentdrive/MyDrive/content/user_agent.txt\").read()\n",
        "username = open(\"/content/contentdrive/MyDrive/content/username.txt\").read()"
      ],
      "metadata": {
        "id": "J0t8_r634JZu"
      },
      "execution_count": 11,
      "outputs": []
    },
    {
      "cell_type": "markdown",
      "source": [
        "### Accessing Reddit account"
      ],
      "metadata": {
        "id": "D9u8wt-OHVMz"
      }
    },
    {
      "cell_type": "code",
      "source": [
        "reddit = praw.Reddit(\n",
        "    client_id=client_id,\n",
        "    client_secret= client_service,\n",
        "    password = password,\n",
        "    user_agent = user_agent,\n",
        "    username = username,\n",
        "    check_for_async=False\n",
        ")"
      ],
      "metadata": {
        "id": "5KaD_ue_EUJd"
      },
      "execution_count": 12,
      "outputs": []
    },
    {
      "cell_type": "markdown",
      "source": [
        "### Logging in into the Reddit account"
      ],
      "metadata": {
        "id": "1K1OaDGnHX4y"
      }
    },
    {
      "cell_type": "code",
      "source": [
        "reddit.user.me()"
      ],
      "metadata": {
        "colab": {
          "base_uri": "https://localhost:8080/"
        },
        "id": "jsu8SDwVGehC",
        "outputId": "2ecb939a-fda5-4082-cd1e-2c1a41e33b3f"
      },
      "execution_count": 13,
      "outputs": [
        {
          "output_type": "execute_result",
          "data": {
            "text/plain": [
              "Redditor(name='LabPast4435')"
            ]
          },
          "metadata": {},
          "execution_count": 13
        }
      ]
    },
    {
      "cell_type": "markdown",
      "source": [
        "### Getting data from Reddit"
      ],
      "metadata": {
        "id": "xsvQVfyYHijI"
      }
    },
    {
      "cell_type": "code",
      "source": [
        "subreddit = reddit.subreddit(\"learnpython\")\n",
        "for submission in subreddit.hot(limit = 5):\n",
        "  print(submission.title)"
      ],
      "metadata": {
        "colab": {
          "base_uri": "https://localhost:8080/"
        },
        "id": "7OFB7qWRGh1q",
        "outputId": "deaee0a3-0755-4d02-c901-1e73dc49f801"
      },
      "execution_count": 14,
      "outputs": [
        {
          "output_type": "stream",
          "name": "stdout",
          "text": [
            "Ask Anything Monday - Weekly Thread\n",
            "I know programming but can't make small project\n",
            "I'm tying to learn Python, i'm really struggling to comprehend the concept of \"f-strings\". Could you explain to me like i'm 5?\n",
            "How to type hint dictionaries without using Any?\n",
            "Realtime output reader\n"
          ]
        }
      ]
    },
    {
      "cell_type": "markdown",
      "source": [
        "### Getting data from Reddit"
      ],
      "metadata": {
        "id": "bAMY0kGgHpIv"
      }
    },
    {
      "cell_type": "code",
      "source": [
        "subreddit = reddit.subreddit(\"cryptocurrency\")\n",
        "for submission in subreddit.hot(limit = 5):\n",
        "  print(submission.title)"
      ],
      "metadata": {
        "colab": {
          "base_uri": "https://localhost:8080/"
        },
        "id": "6eoXpWzoGnyT",
        "outputId": "817e5d76-2c53-4f4c-baa3-d9c7d365af75"
      },
      "execution_count": 15,
      "outputs": [
        {
          "output_type": "stream",
          "name": "stdout",
          "text": [
            "UNODEX - DeFi Trading revolution combined with revenue sharing AMA with r/CryptoCurrency Feb, 26 come and join us for exciting updates and the latest news from UNODEX\n",
            "Moon Week 46\n",
            "Bitcoin Pushes Through $60K for First Time Since November 2021 \n",
            "FTX fraudster Sam Bankman-Fried asks judge for 6.5 or years or less, says public doesn’t know his ‘true’ self\n",
            "As Bitcoin Heads for $100K, Don’t Forget the Deeper Meaning of the Bitcoin Revolution.\n"
          ]
        }
      ]
    },
    {
      "cell_type": "markdown",
      "source": [
        "### Performing operations on the data"
      ],
      "metadata": {
        "id": "r25HmxGLHtlb"
      }
    },
    {
      "cell_type": "code",
      "source": [
        "subreddit = reddit.subreddit(\"cryptocurrency\")\n",
        "for submission in subreddit.hot(limit = 5):\n",
        "  if not submission.stickied:\n",
        "    print(f\"Title: {submission.title}\")\n",
        "    print(f\"Score: {submission.score}\")\n",
        "    print(\"--------------\")"
      ],
      "metadata": {
        "colab": {
          "base_uri": "https://localhost:8080/"
        },
        "id": "SyBbTFVRGqIT",
        "outputId": "c2c1fd1f-69f5-496e-fb0b-df808356d176"
      },
      "execution_count": 16,
      "outputs": [
        {
          "output_type": "stream",
          "name": "stdout",
          "text": [
            "Title: Bitcoin Pushes Through $60K for First Time Since November 2021 \n",
            "Score: 267\n",
            "--------------\n",
            "Title: FTX fraudster Sam Bankman-Fried asks judge for 6.5 or years or less, says public doesn’t know his ‘true’ self\n",
            "Score: 204\n",
            "--------------\n",
            "Title: As Bitcoin Heads for $100K, Don’t Forget the Deeper Meaning of the Bitcoin Revolution.\n",
            "Score: 282\n",
            "--------------\n"
          ]
        }
      ]
    },
    {
      "cell_type": "markdown",
      "source": [
        "### Posting new submission"
      ],
      "metadata": {
        "id": "1YvHRCEgH3t8"
      }
    },
    {
      "cell_type": "code",
      "source": [
        "reddit.subreddit(\"test\").submit(title = \"My first reddit trial.\",\n",
        "                                selftext = \"Hi, this is my first trial.\"\n",
        "                                )"
      ],
      "metadata": {
        "colab": {
          "base_uri": "https://localhost:8080/"
        },
        "id": "SlkTSNXWGth9",
        "outputId": "2741926e-1e8c-4618-d51d-d3aad8468914"
      },
      "execution_count": 17,
      "outputs": [
        {
          "output_type": "execute_result",
          "data": {
            "text/plain": [
              "Submission(id='1b279ow')"
            ]
          },
          "metadata": {},
          "execution_count": 17
        }
      ]
    },
    {
      "cell_type": "markdown",
      "source": [
        "### Commenting on a known submission"
      ],
      "metadata": {
        "id": "fLeNPqzMH4ep"
      }
    },
    {
      "cell_type": "code",
      "source": [
        "submission = reddit.submission(url=\"https://www.reddit.com/r/test/comments/1aubrij/my_first_reddit_trial/\")\n",
        "submission.reply(\"Super rad!\")"
      ],
      "metadata": {
        "colab": {
          "base_uri": "https://localhost:8080/"
        },
        "id": "SGnuwfEAGwln",
        "outputId": "6e10a122-08e5-4985-dea1-7341271b12c7"
      },
      "execution_count": 18,
      "outputs": [
        {
          "output_type": "execute_result",
          "data": {
            "text/plain": [
              "Comment(id='ksjdww8')"
            ]
          },
          "metadata": {},
          "execution_count": 18
        }
      ]
    }
  ]
}