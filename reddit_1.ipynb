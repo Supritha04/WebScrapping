{
  "nbformat": 4,
  "nbformat_minor": 0,
  "metadata": {
    "colab": {
      "provenance": [],
      "authorship_tag": "ABX9TyNG8SBMof5IgkWfhCo5OGLh",
      "include_colab_link": true
    },
    "kernelspec": {
      "name": "python3",
      "display_name": "Python 3"
    },
    "language_info": {
      "name": "python"
    }
  },
  "cells": [
    {
      "cell_type": "markdown",
      "metadata": {
        "id": "view-in-github",
        "colab_type": "text"
      },
      "source": [
        "<a href=\"https://colab.research.google.com/github/Supritha04/WebScrapping/blob/main/reddit_1.ipynb\" target=\"_parent\"><img src=\"https://colab.research.google.com/assets/colab-badge.svg\" alt=\"Open In Colab\"/></a>"
      ]
    },
    {
      "cell_type": "markdown",
      "source": [
        "### Installing praw and openai"
      ],
      "metadata": {
        "id": "Sg82EyZJ4MVk"
      }
    },
    {
      "cell_type": "code",
      "execution_count": null,
      "metadata": {
        "colab": {
          "base_uri": "https://localhost:8080/"
        },
        "id": "0E8kutgr4Law",
        "outputId": "e373d330-c5c5-4068-9221-884034a30301"
      },
      "outputs": [
        {
          "output_type": "stream",
          "name": "stdout",
          "text": [
            "Collecting praw\n",
            "  Downloading praw-7.7.1-py3-none-any.whl (191 kB)\n",
            "\u001b[?25l     \u001b[90m━━━━━━━━━━━━━━━━━━━━━━━━━━━━━━━━━━━━━━━━\u001b[0m \u001b[32m0.0/191.0 kB\u001b[0m \u001b[31m?\u001b[0m eta \u001b[36m-:--:--\u001b[0m\r\u001b[2K     \u001b[90m━━━━━━━━━━━━━━━━━━━━━━━━━━━━━━━━━━━━━━━━\u001b[0m \u001b[32m191.0/191.0 kB\u001b[0m \u001b[31m7.1 MB/s\u001b[0m eta \u001b[36m0:00:00\u001b[0m\n",
            "\u001b[?25hCollecting prawcore<3,>=2.1 (from praw)\n",
            "  Downloading prawcore-2.4.0-py3-none-any.whl (17 kB)\n",
            "Collecting update-checker>=0.18 (from praw)\n",
            "  Downloading update_checker-0.18.0-py3-none-any.whl (7.0 kB)\n",
            "Requirement already satisfied: websocket-client>=0.54.0 in /usr/local/lib/python3.10/dist-packages (from praw) (1.7.0)\n",
            "Requirement already satisfied: requests<3.0,>=2.6.0 in /usr/local/lib/python3.10/dist-packages (from prawcore<3,>=2.1->praw) (2.31.0)\n",
            "Requirement already satisfied: charset-normalizer<4,>=2 in /usr/local/lib/python3.10/dist-packages (from requests<3.0,>=2.6.0->prawcore<3,>=2.1->praw) (3.3.2)\n",
            "Requirement already satisfied: idna<4,>=2.5 in /usr/local/lib/python3.10/dist-packages (from requests<3.0,>=2.6.0->prawcore<3,>=2.1->praw) (3.6)\n",
            "Requirement already satisfied: urllib3<3,>=1.21.1 in /usr/local/lib/python3.10/dist-packages (from requests<3.0,>=2.6.0->prawcore<3,>=2.1->praw) (2.0.7)\n",
            "Requirement already satisfied: certifi>=2017.4.17 in /usr/local/lib/python3.10/dist-packages (from requests<3.0,>=2.6.0->prawcore<3,>=2.1->praw) (2024.2.2)\n",
            "Installing collected packages: update-checker, prawcore, praw\n",
            "Successfully installed praw-7.7.1 prawcore-2.4.0 update-checker-0.18.0\n"
          ]
        }
      ],
      "source": [
        "!pip install praw"
      ]
    },
    {
      "cell_type": "code",
      "source": [
        "!pip install openai==0.28"
      ],
      "metadata": {
        "colab": {
          "base_uri": "https://localhost:8080/"
        },
        "id": "L4Yi3PLQ4TLs",
        "outputId": "114ea7d4-ebf6-4f6a-966b-f051831c0819"
      },
      "execution_count": null,
      "outputs": [
        {
          "output_type": "stream",
          "name": "stdout",
          "text": [
            "Collecting openai==0.28\n",
            "  Downloading openai-0.28.0-py3-none-any.whl (76 kB)\n",
            "\u001b[?25l     \u001b[90m━━━━━━━━━━━━━━━━━━━━━━━━━━━━━━━━━━━━━━━━\u001b[0m \u001b[32m0.0/76.5 kB\u001b[0m \u001b[31m?\u001b[0m eta \u001b[36m-:--:--\u001b[0m\r\u001b[2K     \u001b[90m━━━━━━━━━━━━━━━━━━━━━━━━━━━━━━━━━━━━━━━━\u001b[0m \u001b[32m76.5/76.5 kB\u001b[0m \u001b[31m3.9 MB/s\u001b[0m eta \u001b[36m0:00:00\u001b[0m\n",
            "\u001b[?25hRequirement already satisfied: requests>=2.20 in /usr/local/lib/python3.10/dist-packages (from openai==0.28) (2.31.0)\n",
            "Requirement already satisfied: tqdm in /usr/local/lib/python3.10/dist-packages (from openai==0.28) (4.66.2)\n",
            "Requirement already satisfied: aiohttp in /usr/local/lib/python3.10/dist-packages (from openai==0.28) (3.9.3)\n",
            "Requirement already satisfied: charset-normalizer<4,>=2 in /usr/local/lib/python3.10/dist-packages (from requests>=2.20->openai==0.28) (3.3.2)\n",
            "Requirement already satisfied: idna<4,>=2.5 in /usr/local/lib/python3.10/dist-packages (from requests>=2.20->openai==0.28) (3.6)\n",
            "Requirement already satisfied: urllib3<3,>=1.21.1 in /usr/local/lib/python3.10/dist-packages (from requests>=2.20->openai==0.28) (2.0.7)\n",
            "Requirement already satisfied: certifi>=2017.4.17 in /usr/local/lib/python3.10/dist-packages (from requests>=2.20->openai==0.28) (2024.2.2)\n",
            "Requirement already satisfied: aiosignal>=1.1.2 in /usr/local/lib/python3.10/dist-packages (from aiohttp->openai==0.28) (1.3.1)\n",
            "Requirement already satisfied: attrs>=17.3.0 in /usr/local/lib/python3.10/dist-packages (from aiohttp->openai==0.28) (23.2.0)\n",
            "Requirement already satisfied: frozenlist>=1.1.1 in /usr/local/lib/python3.10/dist-packages (from aiohttp->openai==0.28) (1.4.1)\n",
            "Requirement already satisfied: multidict<7.0,>=4.5 in /usr/local/lib/python3.10/dist-packages (from aiohttp->openai==0.28) (6.0.5)\n",
            "Requirement already satisfied: yarl<2.0,>=1.0 in /usr/local/lib/python3.10/dist-packages (from aiohttp->openai==0.28) (1.9.4)\n",
            "Requirement already satisfied: async-timeout<5.0,>=4.0 in /usr/local/lib/python3.10/dist-packages (from aiohttp->openai==0.28) (4.0.3)\n",
            "Installing collected packages: openai\n",
            "Successfully installed openai-0.28.0\n"
          ]
        }
      ]
    },
    {
      "cell_type": "code",
      "source": [
        "import praw"
      ],
      "metadata": {
        "id": "xITuShpp4eiK"
      },
      "execution_count": null,
      "outputs": []
    },
    {
      "cell_type": "code",
      "source": [
        "import openai"
      ],
      "metadata": {
        "id": "vyI7ud3r840D"
      },
      "execution_count": null,
      "outputs": []
    },
    {
      "cell_type": "markdown",
      "source": [
        "### Logging into reddit and openai"
      ],
      "metadata": {
        "id": "JOHPYFm7621I"
      }
    },
    {
      "cell_type": "code",
      "source": [
        "client_id = open(\"/content/client_id.txt\").read()\n",
        "client_service = open(\"/content/client_service.txt\").read()\n",
        "password =open(\"/content/password.txt\").read()\n",
        "user_agent = open(\"/content/user_agent.txt\").read()\n",
        "username = open(\"/content/username.txt\").read()"
      ],
      "metadata": {
        "id": "eAVLVQnM4qLb"
      },
      "execution_count": null,
      "outputs": []
    },
    {
      "cell_type": "code",
      "source": [
        "reddit = praw.Reddit(\n",
        "    client_id=client_id,\n",
        "    client_secret= client_service,\n",
        "    password = password,\n",
        "    user_agent = user_agent,\n",
        "    username = username,\n",
        "    check_for_async=False\n",
        ")"
      ],
      "metadata": {
        "id": "4TPIheFx6zZ0"
      },
      "execution_count": null,
      "outputs": []
    },
    {
      "cell_type": "code",
      "source": [
        "reddit.user.me()"
      ],
      "metadata": {
        "colab": {
          "base_uri": "https://localhost:8080/"
        },
        "id": "oeNvxlW7658t",
        "outputId": "69a0871e-9081-4e38-a20f-c7076bff26cc"
      },
      "execution_count": null,
      "outputs": [
        {
          "output_type": "execute_result",
          "data": {
            "text/plain": [
              "Redditor(name='Sad_Dust_1026')"
            ]
          },
          "metadata": {},
          "execution_count": 6
        }
      ]
    },
    {
      "cell_type": "code",
      "source": [
        "subreddit=reddit.subreddit(\"python\")"
      ],
      "metadata": {
        "id": "WeSZotow68PV"
      },
      "execution_count": null,
      "outputs": []
    },
    {
      "cell_type": "code",
      "source": [
        "openai.api_key = open(\"/content/openaikey.txt\").read()"
      ],
      "metadata": {
        "id": "TIzVTqdO89Ab"
      },
      "execution_count": null,
      "outputs": []
    },
    {
      "cell_type": "markdown",
      "source": [
        "### Function to retrieve the comments from url or id"
      ],
      "metadata": {
        "id": "cgP1yePI7GHr"
      }
    },
    {
      "cell_type": "code",
      "source": [
        "def get_post_title_and_comments(url):\n",
        "  submission = reddit.submission(url=url)\n",
        "  submission.comments.replace_more(limit=None)\n",
        "  post_title = submission.title\n",
        "  comments = []\n",
        "  count = 0\n",
        "  for comment in submission.comments:\n",
        "    if count >= 10:\n",
        "      break\n",
        "    comments.append(comment.body)\n",
        "    count += 1\n",
        "  return post_title, '\\n\\n'.join(comments)"
      ],
      "metadata": {
        "id": "4mZMBq4L6-g7"
      },
      "execution_count": null,
      "outputs": []
    },
    {
      "cell_type": "code",
      "source": [
        "# Checking the usage:\n",
        "url = 'https://www.reddit.com/r/unitedstatesofindia/comments/1b7t9lg/as_a_first_time_voter_who_do_you_plan_to_vote_for/?utm_source=share&utm_medium=web3x&utm_name=web3xcss&utm_term=1&utm_content=share_button'\n",
        "post_title, comments = get_post_title_and_comments(url)\n",
        "print(\"Post Title:\", post_title)\n",
        "print(\"Comments:\", comments)"
      ],
      "metadata": {
        "colab": {
          "base_uri": "https://localhost:8080/"
        },
        "id": "B4eyLOl27zeE",
        "outputId": "9896bef9-6ae7-4eb4-9efd-2859278b5b3d"
      },
      "execution_count": null,
      "outputs": [
        {
          "output_type": "stream",
          "name": "stdout",
          "text": [
            "Post Title: As a first time voter, who do you plan to vote for?\n",
            "Comments: * If your image submission is Non-OC, provide a link to the source below this comment. \n",
            "\n",
            "* If your image submission is OC, mark it as OC, or use [OC]/ (OC) in title, or mention so below this comment.\n",
            "\n",
            "* Note: Screenshot posts are not allowed. Memes should use proper flair. Links to YouTube channels/ blogs/ websites are only allowed under this comment, do not spam elsewhere.\n",
            "\n",
            "*I am a bot, and this action was performed automatically. Please [contact the moderators of this subreddit](/message/compose/?to=/r/unitedstatesofindia) if you have any questions or concerns.*\n",
            "\n",
            "Ppl downvoting each other’s parties in the comments 😭😭😭 theres a war going on here\n",
            "\n",
            "![img](emote|t5_2kz7we|30378)\n",
            "\n",
            "Nice try EC!\n",
            "\n",
            "Doesn't matter who you vote for, that's the sad reality. But if you do wanna make some contribution, forget national picture and focus on local\n",
            "\n",
            "Ideology Jaan ne ka tareeka thoda kezual hain\n",
            "\n",
            "I'm from Kerala. Its only a choice between INC-led UDF and CPIM-led LDF. Last time, UDF bagged 19 out of 20 seats because the people of Kerala didn't want the BJP to get into power again, and INC was the best bet to avoid vote scattering. But since INC and Rahul Gandhi failed to even form a strong opposition, people might just vote for LDF and UDF almost equally. I myself prefer the LDF.\n",
            "\n",
            "I will be turning 18 on 10 April will I be able to vote\n",
            "\n",
            "Anyone but BJ party\n",
            "\n",
            "Congress because the likely BJP candidate here is known for inciting communal tensions. He will still win though.\n"
          ]
        }
      ]
    },
    {
      "cell_type": "markdown",
      "source": [
        "### Function to prepare prompt"
      ],
      "metadata": {
        "id": "z_zhRXOf9h9f"
      }
    },
    {
      "cell_type": "code",
      "source": [
        "def generate_prompt(post_title, comments):\n",
        "  prompt = f\"### Post Title:\\n\\n{post_title}\\n\\n\"\n",
        "  prompt += \"### Comments:\\n\\n\"\n",
        "  prompt += comments + \"\\n\\n\"\n",
        "  prompt += \"### Your Comment:\\n\\n\"\n",
        "  return prompt"
      ],
      "metadata": {
        "id": "WvgH03LM9ly0"
      },
      "execution_count": null,
      "outputs": []
    },
    {
      "cell_type": "code",
      "source": [
        "# Checking the usage:\n",
        "url = 'https://www.reddit.com/r/unitedstatesofindia/comments/1b7t9lg/as_a_first_time_voter_who_do_you_plan_to_vote_for/?utm_source=share&utm_medium=web3x&utm_name=web3xcss&utm_term=1&utm_content=share_button'\n",
        "post_title, comments = get_post_title_and_comments(url)\n",
        "prompt = generate_prompt(post_title, comments)\n",
        "print(prompt)"
      ],
      "metadata": {
        "colab": {
          "base_uri": "https://localhost:8080/"
        },
        "id": "RTteiEIj-5KH",
        "outputId": "6eec5986-091d-44ac-fb56-be65b237c0d6"
      },
      "execution_count": null,
      "outputs": [
        {
          "output_type": "stream",
          "name": "stdout",
          "text": [
            "### Post Title:\n",
            "\n",
            "As a first time voter, who do you plan to vote for?\n",
            "\n",
            "### Comments:\n",
            "\n",
            "* If your image submission is Non-OC, provide a link to the source below this comment. \n",
            "\n",
            "* If your image submission is OC, mark it as OC, or use [OC]/ (OC) in title, or mention so below this comment.\n",
            "\n",
            "* Note: Screenshot posts are not allowed. Memes should use proper flair. Links to YouTube channels/ blogs/ websites are only allowed under this comment, do not spam elsewhere.\n",
            "\n",
            "*I am a bot, and this action was performed automatically. Please [contact the moderators of this subreddit](/message/compose/?to=/r/unitedstatesofindia) if you have any questions or concerns.*\n",
            "\n",
            "Ppl downvoting each other’s parties in the comments 😭😭😭 theres a war going on here\n",
            "\n",
            "![img](emote|t5_2kz7we|30378)\n",
            "\n",
            "Nice try EC!\n",
            "\n",
            "Doesn't matter who you vote for, that's the sad reality. But if you do wanna make some contribution, forget national picture and focus on local\n",
            "\n",
            "Ideology Jaan ne ka tareeka thoda kezual hain\n",
            "\n",
            "I'm from Kerala. Its only a choice between INC-led UDF and CPIM-led LDF. Last time, UDF bagged 19 out of 20 seats because the people of Kerala didn't want the BJP to get into power again, and INC was the best bet to avoid vote scattering. But since INC and Rahul Gandhi failed to even form a strong opposition, people might just vote for LDF and UDF almost equally. I myself prefer the LDF.\n",
            "\n",
            "I will be turning 18 on 10 April will I be able to vote\n",
            "\n",
            "Anyone but BJ party\n",
            "\n",
            "Congress because the likely BJP candidate here is known for inciting communal tensions. He will still win though.\n",
            "\n",
            "### Your Comment:\n",
            "\n",
            "\n"
          ]
        }
      ]
    },
    {
      "cell_type": "markdown",
      "source": [
        "### Function to generate comment"
      ],
      "metadata": {
        "id": "cp3C_hII9mMQ"
      }
    },
    {
      "cell_type": "code",
      "source": [
        "def generate_answer(prompt):\n",
        "  try:\n",
        "    # Use GPT-3 to generate an answer based on the prompt\n",
        "    response = openai.ChatCompletion.create(\n",
        "    model=\"gpt-3.5-turbo\",\n",
        "    messages=[\n",
        "    {\"role\": \"user\", \"content\": prompt}\n",
        "    ]\n",
        "    )\n",
        "    answer = response['choices'][0]['message']['content'].strip()\n",
        "    return answer\n",
        "  except Exception as e:\n",
        "    print(f\"An error occurred: {e}\")\n",
        "    return None"
      ],
      "metadata": {
        "id": "Nu9VlLqX8Ex8"
      },
      "execution_count": null,
      "outputs": []
    },
    {
      "cell_type": "code",
      "source": [
        "# Checking the usage\n",
        "url = 'https://www.reddit.com/r/unitedstatesofindia/comments/1b7t9lg/as_a_first_time_voter_who_do_you_plan_to_vote_for/?utm_source=share&utm_medium=web3x&utm_name=web3xcss&utm_term=1&utm_content=share_button'\n",
        "post_title, comments = get_post_title_and_comments(url)\n",
        "prompt = generate_prompt(post_title, comments)\n",
        "generated_comment=generate_answer(prompt)"
      ],
      "metadata": {
        "id": "9Y7vXJJE_OB-"
      },
      "execution_count": null,
      "outputs": []
    },
    {
      "cell_type": "code",
      "source": [
        "print(generated_comment)"
      ],
      "metadata": {
        "colab": {
          "base_uri": "https://localhost:8080/"
        },
        "id": "H42Xkadb_Yvm",
        "outputId": "0a4e037b-b5a9-41dd-9aa6-28b5e4a40930"
      },
      "execution_count": null,
      "outputs": [
        {
          "output_type": "stream",
          "name": "stdout",
          "text": [
            "As a first time voter, it's important to educate yourself about the different political parties, their ideologies, and the candidates running in your area. Take the time to research and understand the issues that are important to you before making a decision on who to vote for. Remember, your vote has the power to make a difference, so make it count!\n"
          ]
        }
      ]
    },
    {
      "cell_type": "markdown",
      "source": [
        "### Function to post the comment"
      ],
      "metadata": {
        "id": "KtzZ7SX0_iEk"
      }
    },
    {
      "cell_type": "code",
      "source": [
        "def post_comment(url, comment_text):\n",
        "  submission = reddit.submission(url=url)\n",
        "  submission.reply(comment_text)\n",
        "  print(\"Comment posted successfully.\")"
      ],
      "metadata": {
        "id": "Wr24Yes8_e0F"
      },
      "execution_count": null,
      "outputs": []
    },
    {
      "cell_type": "markdown",
      "source": [
        "### The final bot"
      ],
      "metadata": {
        "id": "kkrNB5zrCq23"
      }
    },
    {
      "cell_type": "code",
      "source": [
        "def bot(url):\n",
        "  post_title, comments = get_post_title_and_comments(url)\n",
        "  prompt = generate_prompt(post_title, comments)\n",
        "  generated_comment=generate_answer(prompt)\n",
        "  post_comment(url,generated_comment)"
      ],
      "metadata": {
        "id": "Or_AQvvrADYt"
      },
      "execution_count": null,
      "outputs": []
    },
    {
      "cell_type": "code",
      "source": [
        "url=\"https://www.reddit.com/r/unitedstatesofindia/comments/1b7t9lg/as_a_first_time_voter_who_do_you_plan_to_vote_for/?utm_source=share&utm_medium=web3x&utm_name=web3xcss&utm_term=1&utm_content=share_button\"\n",
        "bot(url)"
      ],
      "metadata": {
        "colab": {
          "base_uri": "https://localhost:8080/"
        },
        "id": "bv0YVvwVDSRC",
        "outputId": "a07c4673-7752-4a0b-a5ce-a19f39e41d1d"
      },
      "execution_count": null,
      "outputs": [
        {
          "output_type": "stream",
          "name": "stdout",
          "text": [
            "Comment posted successfully.\n"
          ]
        }
      ]
    }
  ]
}